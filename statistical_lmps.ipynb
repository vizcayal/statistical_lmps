{
 "cells": [
  {
   "cell_type": "code",
   "execution_count": null,
   "metadata": {},
   "outputs": [],
   "source": [
    "\n",
    "import pandas as pd\n",
    "import numpy as np\n",
    "\n",
    "from datetime import datetime, timedelta\n",
    "\n",
    "from sklearn.gaussian_process import GaussianProcessRegressor\n",
    "from sklearn.gaussian_process.kernels import RBF\n",
    "\n",
    "\n"
   ]
  },
  {
   "cell_type": "code",
   "execution_count": null,
   "metadata": {},
   "outputs": [],
   "source": [
    "start_date_str = \"2023-07-01\"\n",
    "next_date = datetime.strptime(start_date_str, \"%Y-%m-%d\") + timedelta(days=1)\n",
    "new_date_str = next_date.strftime(\"%Y-%m-%d\")"
   ]
  },
  {
   "cell_type": "code",
   "execution_count": null,
   "metadata": {},
   "outputs": [],
   "source": [
    "class statistical_model():\n",
    "    def __init__(self):\n",
    "        #self.client = gridstatusio.GridStatusClient(api_key = '9c97c76ced574dfdaf7b4a9618387599')\n",
    "        self.kernel = RBF(length_scale=10, length_scale_bounds=(1e-2, 1e2))\n",
    "        self.model = GaussianProcessRegressor(kernel=self.kernel, n_restarts_optimizer=10)\n",
    "\n",
    "    def get_data_statusgrid(self, start_date:str, end_date:str) -> pd.DataFrame:\n",
    "        self.lmps = self.client.get_dataset(\n",
    "                                    dataset = \"ercot_lmp_by_settlement_point\",\n",
    "                                    start = start_date,\n",
    "                                    end = end_date,    \n",
    "                                    timezone = \"US/Central\",\n",
    "                                    )\n",
    "        self.lmps.to_csv('summer_2023.cvs')\n",
    "    \n",
    "    def get_lmps_csv(self, file) -> pd.DataFrame:\n",
    "        self.lmps = pd.read_csv(file)\n",
    "        self.lmps.set_index('Date', inplace= True, drop=True)\n",
    "        self.lmps = self.preprocess_data(self.lmps)\n",
    "\n",
    "    def get_demand_forecast_csv(self, file) -> pd.DataFrame:\n",
    "        self.demand_forecast = pd.read_csv(file)\n",
    "        self.demand_forecast.set_index('Date', inplace= True, drop=True)\n",
    "        self.demand_forecast = self.preprocess_data(self.demand_forecast)\n",
    "\n",
    "\n",
    "\n",
    "    def preprocess_data(self, df):\n",
    "\n",
    "        df.dropna(inplace = True)\n",
    "        return df\n",
    "\n",
    "        \n",
    "    def train_model(self):\n",
    "        self.model.fit(self.demand_forecast, self.lmps)\n",
    "    \n",
    "    def forecast(self, x):\n",
    "        \n",
    "        pred, st_dev = self.model.predict(x)\n",
    "        return pred, st_dev\n",
    "    \n",
    "    \n",
    "        "
   ]
  },
  {
   "cell_type": "code",
   "execution_count": null,
   "metadata": {},
   "outputs": [],
   "source": [
    "first_model = statistical_model()\n",
    "first_model.get_lmps_csv(\"data/nodal_lmps.csv\")\n",
    "first_model.get_demand_forecast_csv(\"data/zonal_demand_forecast.csv\")\n",
    "pred, std = first_model.train_model()\n",
    "print(std)"
   ]
  },
  {
   "cell_type": "code",
   "execution_count": null,
   "metadata": {},
   "outputs": [],
   "source": [
    "x = first_model.demand_forecast.iloc[0:2]\n",
    "first_model.forecast(x)"
   ]
  }
 ],
 "metadata": {
  "kernelspec": {
   "display_name": "muo-venv",
   "language": "python",
   "name": "python3"
  },
  "language_info": {
   "codemirror_mode": {
    "name": "ipython",
    "version": 3
   },
   "file_extension": ".py",
   "mimetype": "text/x-python",
   "name": "python",
   "nbconvert_exporter": "python",
   "pygments_lexer": "ipython3",
   "version": "3.11.9"
  }
 },
 "nbformat": 4,
 "nbformat_minor": 2
}
